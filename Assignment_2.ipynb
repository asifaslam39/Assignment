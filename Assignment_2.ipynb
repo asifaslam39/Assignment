{
 "cells": [
  {
   "cell_type": "code",
   "execution_count": 97,
   "id": "06a94a45-4d7c-434a-bd23-421e439beb18",
   "metadata": {
    "tags": []
   },
   "outputs": [],
   "source": [
    "import pandas as pd\n",
    "from scipy.stats import pearsonr\n",
    "import statsmodels.api as sm\n",
    "from scipy.stats import chi2_contingency"
   ]
  },
  {
   "cell_type": "code",
   "execution_count": 2,
   "id": "4f29ce85-09f4-47e2-b45b-302dcc39ce2e",
   "metadata": {
    "tags": []
   },
   "outputs": [],
   "source": [
    "df=pd.read_csv(\"c:/Assignmentt/traffic/traffic.csv\")"
   ]
  },
  {
   "cell_type": "code",
   "execution_count": 13,
   "id": "a052774e-b386-4f61-9ede-7aa56172baf0",
   "metadata": {
    "tags": []
   },
   "outputs": [
    {
     "name": "stdout",
     "output_type": "stream",
     "text": [
      "<class 'pandas.core.frame.DataFrame'>\n",
      "RangeIndex: 226278 entries, 0 to 226277\n",
      "Data columns (total 9 columns):\n",
      " #   Column   Non-Null Count   Dtype \n",
      "---  ------   --------------   ----- \n",
      " 0   event    226278 non-null  object\n",
      " 1   date     226278 non-null  object\n",
      " 2   country  226267 non-null  object\n",
      " 3   city     226267 non-null  object\n",
      " 4   artist   226241 non-null  object\n",
      " 5   album    226273 non-null  object\n",
      " 6   track    226273 non-null  object\n",
      " 7   isrc     219157 non-null  object\n",
      " 8   linkid   226278 non-null  object\n",
      "dtypes: object(9)\n",
      "memory usage: 15.5+ MB\n"
     ]
    }
   ],
   "source": [
    "# Get basic information about the dataset\n",
    "df.info()\n"
   ]
  },
  {
   "cell_type": "code",
   "execution_count": 14,
   "id": "0bb19e31-f192-47c3-b14c-2946b07194a4",
   "metadata": {
    "tags": []
   },
   "outputs": [
    {
     "data": {
      "text/plain": [
       "event         0\n",
       "date          0\n",
       "country      11\n",
       "city         11\n",
       "artist       37\n",
       "album         5\n",
       "track         5\n",
       "isrc       7121\n",
       "linkid        0\n",
       "dtype: int64"
      ]
     },
     "execution_count": 14,
     "metadata": {},
     "output_type": "execute_result"
    }
   ],
   "source": [
    "# Check for missing values\n",
    "df.isnull().sum()"
   ]
  },
  {
   "cell_type": "code",
   "execution_count": 23,
   "id": "47e0cf24-9804-49c1-9b8c-18c5207a5ef5",
   "metadata": {
    "tags": []
   },
   "outputs": [],
   "source": [
    "#drop missing values\n",
    "df=df.dropna()\n"
   ]
  },
  {
   "cell_type": "code",
   "execution_count": 38,
   "id": "a9e244a5-3fcb-4852-949a-5e39cb527529",
   "metadata": {
    "tags": []
   },
   "outputs": [],
   "source": [
    "#change datatype of date column\n",
    "df[\"date\"]=pd.to_datetime(df[\"date\"],errors='coerce')"
   ]
  },
  {
   "cell_type": "markdown",
   "id": "4ab6f211-bd9c-45f6-bcf9-9992a2c71214",
   "metadata": {},
   "source": [
    "### Total and Daily Pageview Events:"
   ]
  },
  {
   "cell_type": "markdown",
   "id": "cc1f1ab3-fe08-4299-8851-f62482a2863d",
   "metadata": {
    "tags": []
   },
   "source": [
    "1. How many total pageview events did the links in the dataset receive during the entire period?"
   ]
  },
  {
   "cell_type": "markdown",
   "id": "5a8e4ece-12de-46f2-afd0-a44e45b15a5a",
   "metadata": {},
   "source": [
    "##### Total pageview events"
   ]
  },
  {
   "cell_type": "code",
   "execution_count": 44,
   "id": "c3ed6b1b-af70-4566-8adb-aff34656985a",
   "metadata": {
    "tags": []
   },
   "outputs": [
    {
     "name": "stdout",
     "output_type": "stream",
     "text": [
      "Total pageview events: 137115\n"
     ]
    }
   ],
   "source": [
    "pageviews=df[df[\"event\"]==\"pageview\"]\n",
    "total_pageviews=pageviews.shape[0]\n",
    "print(f\"Total pageview events: {total_pageviews}\")"
   ]
  },
  {
   "cell_type": "markdown",
   "id": "97a4c968-7362-44ad-9324-c33bb05776ff",
   "metadata": {},
   "source": [
    "2.What is the average number of pageview events per day?"
   ]
  },
  {
   "cell_type": "markdown",
   "id": "1c13b045-b6e6-4477-95f3-80e6b3310c28",
   "metadata": {},
   "source": [
    "##### Average pageview events per day"
   ]
  },
  {
   "cell_type": "code",
   "execution_count": 52,
   "id": "aca2e89c-bf3b-4136-9ffe-4a0b5973db5c",
   "metadata": {
    "tags": []
   },
   "outputs": [
    {
     "name": "stdout",
     "output_type": "stream",
     "text": [
      "Average daily pageview events 19588\n"
     ]
    }
   ],
   "source": [
    "avg_daily_pageviews= pageviews.groupby('date').size().mean()\n",
    "print(f\"Average daily pageview events\" ,round(avg_daily_pageviews))"
   ]
  },
  {
   "cell_type": "markdown",
   "id": "f1176b74-02fa-4f31-a364-dd8700c4f842",
   "metadata": {
    "tags": []
   },
   "source": [
    "### Analysis of Other Events:"
   ]
  },
  {
   "cell_type": "markdown",
   "id": "09ceda36-0d14-4570-b118-9632cbd07043",
   "metadata": {},
   "source": [
    "##### What is the total count and distribution of other recorded events in the dataset?"
   ]
  },
  {
   "cell_type": "markdown",
   "id": "ddba7097-05ac-4688-a956-c371954a8d2f",
   "metadata": {},
   "source": [
    "##### count all events"
   ]
  },
  {
   "cell_type": "code",
   "execution_count": 59,
   "id": "c036b9ee-16c8-463d-9976-10a70c13f157",
   "metadata": {
    "tags": []
   },
   "outputs": [
    {
     "name": "stdout",
     "output_type": "stream",
     "text": [
      "distribution_of_event\n",
      "event\n",
      "pageview    137115\n",
      "click        53504\n",
      "preview      28530\n",
      "Name: count, dtype: int64\n"
     ]
    }
   ],
   "source": [
    "distribution_of_event=df.event.value_counts()\n",
    "print(\"distribution_of_event\")\n",
    "print(distribution_of_event)"
   ]
  },
  {
   "cell_type": "markdown",
   "id": "3d86a79d-700a-4a64-9883-3078459b7071",
   "metadata": {
    "tags": []
   },
   "source": [
    "### Geographical Distribution:"
   ]
  },
  {
   "cell_type": "markdown",
   "id": "84aebcbe-ff34-4f5e-9023-7242c82caada",
   "metadata": {},
   "source": [
    "##### Which countries contributed to the pageviews?"
   ]
  },
  {
   "cell_type": "code",
   "execution_count": 64,
   "id": "1bbc7468-50e9-40ba-a4ab-2bc1672c1003",
   "metadata": {
    "tags": []
   },
   "outputs": [
    {
     "name": "stdout",
     "output_type": "stream",
     "text": [
      "Geographical distribution of pageviews:\n",
      "country\n",
      "Saudi Arabia                28597\n",
      "India                       27285\n",
      "United States               17311\n",
      "France                       9658\n",
      "Iraq                         4830\n",
      "                            ...  \n",
      "Guinea-Bissau                   1\n",
      "Central African Republic        1\n",
      "Guernsey                        1\n",
      "Sint Maarten                    1\n",
      "Saint Martin                    1\n",
      "Name: count, Length: 211, dtype: int64\n"
     ]
    }
   ],
   "source": [
    "geo_distribution=pageviews['country'].value_counts()\n",
    "print(\"Geographical distribution of pageviews:\")\n",
    "# print(geo_distribution.head(5))\n",
    "print(geo_distribution)"
   ]
  },
  {
   "cell_type": "markdown",
   "id": "22a8256f-3272-4a7a-900f-9fc60fd5b557",
   "metadata": {},
   "source": [
    "### Click-Through Rate (CTR) Analysis:"
   ]
  },
  {
   "cell_type": "markdown",
   "id": "ca288f95-ce5b-476f-a51c-0a89127294dc",
   "metadata": {},
   "source": [
    "##### What is the overall click-through rate (CTR) calculated as clicks/pageviews?"
   ]
  },
  {
   "cell_type": "code",
   "execution_count": 74,
   "id": "c9ca4502-1cfd-4509-b93e-aea273dd9a4a",
   "metadata": {
    "tags": []
   },
   "outputs": [
    {
     "name": "stdout",
     "output_type": "stream",
     "text": [
      "Overall click through rate CTR : 0.3902125952667469\n"
     ]
    }
   ],
   "source": [
    "click=df[df['event']=='click']\n",
    "#calculate overall CTR\n",
    "total_click=click.shape[0]\n",
    "overall_CTR=total_click/total_pageviews\n",
    "print(\"Overall click through rate CTR :\",overall_CTR)"
   ]
  },
  {
   "cell_type": "markdown",
   "id": "175379c1-47eb-4b7b-a30c-4860948aac16",
   "metadata": {},
   "source": [
    "##### How does the CTR vary across different links?"
   ]
  },
  {
   "cell_type": "code",
   "execution_count": 75,
   "id": "bbe227e5-cc9f-4e41-b960-f1cac41b4292",
   "metadata": {
    "tags": []
   },
   "outputs": [
    {
     "name": "stdout",
     "output_type": "stream",
     "text": [
      "CTR by link:\n",
      "linkid\n",
      "006af6a0-1f0d-4b0c-93bf-756af9071c06    0.222222\n",
      "00759b81-3f04-4a61-b934-f8fb3185f4a0    0.750000\n",
      "00829040-ee01-4409-966d-d67c7965144a    0.564103\n",
      "009193ee-c3df-4efa-88f2-feb37c0bfdf2    0.666667\n",
      "00de7566-f014-4d20-8616-82e4dea45b88    0.200000\n",
      "                                          ...   \n",
      "fe8f7a23-be9d-49a6-b9b5-d26823c3f911    0.406593\n",
      "ff685183-215d-4729-9429-80f087eb6ce8         NaN\n",
      "ffa88c9a-4e1b-42cd-93a9-0972179c7d02    0.666667\n",
      "ffd3c9e7-c5c5-4f28-b03d-cbaec33f2152    0.881818\n",
      "ffd8d5a7-91bc-48e1-a692-c26fca8a8ead    0.345238\n",
      "Name: event, Length: 743, dtype: float64\n"
     ]
    }
   ],
   "source": [
    "ctr_by_link = click.groupby('linkid')['event'].count() / pageviews.groupby('linkid')['event'].count()\n",
    "print(\"CTR by link:\")\n",
    "print(ctr_by_link)"
   ]
  },
  {
   "cell_type": "markdown",
   "id": "4c7c7a89-4048-4e42-b75f-5e38e3287641",
   "metadata": {},
   "source": [
    "### Correlation Analysis:"
   ]
  },
  {
   "cell_type": "markdown",
   "id": "da58bb24-4d0c-491f-a091-2d74169e79e8",
   "metadata": {},
   "source": [
    "##### Is there a correlation between clicks and previews on a link? If so, is it statistically significant, and how strong is the effect?"
   ]
  },
  {
   "cell_type": "code",
   "execution_count": 77,
   "id": "2f5fb54d-5e49-4202-9c24-93294e0d5cb4",
   "metadata": {
    "tags": []
   },
   "outputs": [],
   "source": [
    "link_summary=df.groupby('linkid').agg({\"event\":\"count\",\"country\":\"first\"}).reset_index()"
   ]
  },
  {
   "cell_type": "code",
   "execution_count": 80,
   "id": "bbe9751c-728b-47f2-86e1-6280a4aa6002",
   "metadata": {
    "tags": []
   },
   "outputs": [],
   "source": [
    "link_summary.rename(columns={\"event\":\"total_events\"},inplace=True)"
   ]
  },
  {
   "cell_type": "code",
   "execution_count": 85,
   "id": "8a721148-fe15-4029-ae61-056828d3b1d9",
   "metadata": {
    "tags": []
   },
   "outputs": [],
   "source": [
    "link_summary[\"clicks\"]= link_summary[\"total_events\"]*(df[\"event\"]==\"click\").mean()\n",
    "link_summary[\"pageviews\"]= link_summary[\"total_events\"]*(df[\"event\"]==\"pageview\").mean()"
   ]
  },
  {
   "cell_type": "code",
   "execution_count": 87,
   "id": "623f1447-7881-4c61-aecc-1ddff04efd88",
   "metadata": {
    "tags": []
   },
   "outputs": [],
   "source": [
    "#correlation Analysis"
   ]
  },
  {
   "cell_type": "code",
   "execution_count": 101,
   "id": "d7394bdd-e326-4ce6-aebb-220e2fd8c726",
   "metadata": {
    "tags": []
   },
   "outputs": [
    {
     "name": "stdout",
     "output_type": "stream",
     "text": [
      "Correlation between clicks and pageviews: 1.0, p-value: 0.0\n"
     ]
    }
   ],
   "source": [
    "correlation,p_value=pearsonr(link_summary[\"clicks\"],link_summary[\"pageviews\"])\n",
    "print(f\"Correlation between clicks and pageviews: {correlation}, p-value: {p_value}\")\n"
   ]
  },
  {
   "cell_type": "markdown",
   "id": "910e0011-e0d2-4467-aaf2-0a08f3feb097",
   "metadata": {
    "tags": []
   },
   "source": [
    "##### Correlation Coefficient: 1.0: This indicates a perfect positive correlation between clicks and pageviews.\n",
    "##### A p-value of 0.0 (or very close to it) indicates that it is highly unlikely that this result is due to random chance."
   ]
  },
  {
   "cell_type": "markdown",
   "id": "7aa2c390-8667-466a-b5ca-b61e941bf521",
   "metadata": {
    "tags": []
   },
   "source": [
    "##### Perform tests for both potential linear relationships and categorical (binary) relationships between these variables."
   ]
  },
  {
   "cell_type": "code",
   "execution_count": 96,
   "id": "b1b45b76-0cfe-4f23-93c4-309b951c2cd3",
   "metadata": {
    "tags": []
   },
   "outputs": [
    {
     "name": "stdout",
     "output_type": "stream",
     "text": [
      "                            OLS Regression Results                            \n",
      "==============================================================================\n",
      "Dep. Variable:                 clicks   R-squared:                       1.000\n",
      "Model:                            OLS   Adj. R-squared:                  1.000\n",
      "Method:                 Least Squares   F-statistic:                 3.382e+32\n",
      "Date:                Sun, 22 Sep 2024   Prob (F-statistic):               0.00\n",
      "Time:                        01:13:18   Log-Likelihood:                 19841.\n",
      "No. Observations:                 743   AIC:                        -3.968e+04\n",
      "Df Residuals:                     741   BIC:                        -3.967e+04\n",
      "Df Model:                           1                                         \n",
      "Covariance Type:            nonrobust                                         \n",
      "==============================================================================\n",
      "                 coef    std err          t      P>|t|      [0.025      0.975]\n",
      "------------------------------------------------------------------------------\n",
      "const       9.219e-14   2.28e-14      4.043      0.000    4.74e-14    1.37e-13\n",
      "pageviews      0.3902   2.12e-17   1.84e+16      0.000       0.390       0.390\n",
      "==============================================================================\n",
      "Omnibus:                     1736.571   Durbin-Watson:                   1.834\n",
      "Prob(Omnibus):                  0.000   Jarque-Bera (JB):          7755537.865\n",
      "Skew:                         -20.787   Prob(JB):                         0.00\n",
      "Kurtosis:                     501.786   Cond. No.                     1.09e+03\n",
      "==============================================================================\n",
      "\n",
      "Notes:\n",
      "[1] Standard Errors assume that the covariance matrix of the errors is correctly specified.\n",
      "[2] The condition number is large, 1.09e+03. This might indicate that there are\n",
      "strong multicollinearity or other numerical problems.\n"
     ]
    }
   ],
   "source": [
    "# Define X and Y for linear regression\n",
    "X=link_summary['pageviews']\n",
    "Y=link_summary['clicks']\n",
    "X=sm.add_constant(X)\n",
    "model=sm.OLS(Y, X).fit()\n",
    "print(model.summary())"
   ]
  },
  {
   "cell_type": "markdown",
   "id": "1548ab80-7856-416b-9f95-61708e0b5758",
   "metadata": {},
   "source": [
    "##### check relationships among categorical variables\n"
   ]
  },
  {
   "cell_type": "code",
   "execution_count": 99,
   "id": "e965d16a-e8b5-4b34-a60d-660cd019eb5d",
   "metadata": {
    "tags": []
   },
   "outputs": [
    {
     "name": "stdout",
     "output_type": "stream",
     "text": [
      "Chi-squared statistic: 4823.237813060974, p-value: 0.0\n"
     ]
    }
   ],
   "source": [
    "contingency_table=pd.crosstab(df[\"event\"],df[\"country\"])\n",
    "chi2, p, dof, expected=chi2_contingency(contingency_table)\n",
    "print(f\"Chi-squared statistic: {chi2}, p-value: {p}\")"
   ]
  },
  {
   "cell_type": "markdown",
   "id": "128c867d-3a82-43aa-98fa-bc954ff0e0b6",
   "metadata": {},
   "source": [
    "###### Chi-squared Statistic: 4823.24: This is a high value, suggesting a significant association between the event types (clicks and pageviews) and the countries.\n",
    "###### P-Value: 0.0: Similar to the correlation, this indicates that the relationship is statistically significant. The low p-value suggests that the observed distribution of clicks and pageviews across different countries is not due to random variation."
   ]
  },
  {
   "cell_type": "code",
   "execution_count": null,
   "id": "6bab8ff3-7459-4bd6-9a48-ad3568e53eea",
   "metadata": {},
   "outputs": [],
   "source": []
  }
 ],
 "metadata": {
  "kernelspec": {
   "display_name": "Python 3 (ipykernel)",
   "language": "python",
   "name": "python3"
  },
  "language_info": {
   "codemirror_mode": {
    "name": "ipython",
    "version": 3
   },
   "file_extension": ".py",
   "mimetype": "text/x-python",
   "name": "python",
   "nbconvert_exporter": "python",
   "pygments_lexer": "ipython3",
   "version": "3.11.4"
  }
 },
 "nbformat": 4,
 "nbformat_minor": 5
}
